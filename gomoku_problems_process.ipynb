{
 "cells": [
  {
   "cell_type": "code",
   "execution_count": 10,
   "id": "e823952d",
   "metadata": {},
   "outputs": [],
   "source": [
    "def to_board(move, board_size):\n",
    "  move = move.split('!')[1:]\n",
    "  board =  [[0 for i in range(board_size)] for j in range(board_size)]\n",
    "\n",
    "  cur = 1\n",
    "  for i in move:\n",
    "    x = ord(i[1]) - ord('A')\n",
    "    y = ord(i[2]) - ord('A')\n",
    "    x,y = y,x\n",
    "\n",
    "    # y = board_size - y\n",
    "    x = board_size -1 - x\n",
    "    board[x][y] = cur\n",
    "    cur = -cur\n",
    "\n",
    "    # print(i, x,y)\n",
    "  return board.copy()\n",
    "\n",
    "def print_board(board, board_size):\n",
    "  for i in range(board_size):\n",
    "    for j in range(board_size):\n",
    "      if board[i][j] == 0:\n",
    "        print('.',end=\"|\")\n",
    "      elif board[i][j] == 1:\n",
    "        print(\"O\", end='|')\n",
    "      else:\n",
    "        print(\"X\", end='|')\n",
    "    print()\n",
    "\n",
    "def write_board(board, board_size, filepath):\n",
    "  board = [' '.join(map(str, s)) for s in board]\n",
    "  with open(f'{filepath}', 'w') as f:\n",
    "    f.write(str(board_size) + '\\n')\n",
    "    for s in board:\n",
    "      f.write( s + '\\n' )"
   ]
  },
  {
   "cell_type": "code",
   "execution_count": null,
   "id": "32530333",
   "metadata": {},
   "outputs": [],
   "source": [
    "import requests\n",
    "from bs4 import BeautifulSoup\n",
    "save_path = './board/Nakamura/'\n",
    "url = 'https://587.renju.org.tw/test/Nakamura.htm'\n",
    "resp = requests.get(url)\n",
    "soup = BeautifulSoup(resp.text, 'html5lib')"
   ]
  },
  {
   "cell_type": "code",
   "execution_count": 10,
   "id": "5caeb49c",
   "metadata": {},
   "outputs": [
    {
     "ename": "NameError",
     "evalue": "name 'soup' is not defined",
     "output_type": "error",
     "traceback": [
      "\u001b[31m---------------------------------------------------------------------------\u001b[39m",
      "\u001b[31mNameError\u001b[39m                                 Traceback (most recent call last)",
      "\u001b[36mCell\u001b[39m\u001b[36m \u001b[39m\u001b[32mIn[10]\u001b[39m\u001b[32m, line 11\u001b[39m\n\u001b[32m      9\u001b[39m board_size = \u001b[32m15\u001b[39m\n\u001b[32m     10\u001b[39m \u001b[38;5;28mid\u001b[39m = \u001b[32m0\u001b[39m\n\u001b[32m---> \u001b[39m\u001b[32m11\u001b[39m \u001b[38;5;28;01mfor\u001b[39;00m i \u001b[38;5;129;01min\u001b[39;00m \u001b[43msoup\u001b[49m.find_all(\u001b[33m\"\u001b[39m\u001b[33mdiv\u001b[39m\u001b[33m\"\u001b[39m):\n\u001b[32m     12\u001b[39m   \u001b[38;5;28mcls\u001b[39m = (i.get(\u001b[33m'\u001b[39m\u001b[33mclass\u001b[39m\u001b[33m'\u001b[39m))\n\u001b[32m     13\u001b[39m   \u001b[38;5;66;03m# print(cls)\u001b[39;00m\n",
      "\u001b[31mNameError\u001b[39m: name 'soup' is not defined"
     ]
    }
   ],
   "source": [
    "import os\n",
    "def write_board(board, filepath):\n",
    "  board = [' '.join(map(str, s)) for s in board]\n",
    "  with open(f'{filepath}', 'w') as f:\n",
    "    f.write(str(board_size) + '\\n')\n",
    "    for s in board:\n",
    "      f.write( s + '\\n' )\n",
    "      \n",
    "board_size = 15\n",
    "id = 0\n",
    "for i in soup.find_all(\"div\"):\n",
    "  cls = (i.get('class'))\n",
    "  # print(cls)\n",
    "  if cls == ['board587']:\n",
    "    move = i.get('move')\n",
    "    print('transform ',move)\n",
    "    board = to_board(move, board_size)\n",
    "    \n",
    "    print_board(board, board_size)\n",
    "    print('---')\n",
    "\n",
    "    write_board(board, os.path.join(save_path, f'{id}.txt'))\n",
    "    id += 1\n",
    "  # print('---')"
   ]
  },
  {
   "cell_type": "code",
   "execution_count": 6,
   "id": "3a9da710",
   "metadata": {},
   "outputs": [
    {
     "name": "stderr",
     "output_type": "stream",
     "text": [
      "<>:1: SyntaxWarning: invalid escape sequence '\\ '\n",
      "<>:1: SyntaxWarning: invalid escape sequence '\\ '\n",
      "C:\\Users\\jf099005\\AppData\\Local\\Temp\\ipykernel_13384\\1785084154.py:1: SyntaxWarning: invalid escape sequence '\\ '\n",
      "  board_str = '''   \\  0  1  2  3  4  5  6  7  8  9 10 11 12 13 14 15\n"
     ]
    }
   ],
   "source": [
    "board_str = '''   \\  0  1  2  3  4  5  6  7  8  9 10 11 12 13 14 15\n",
    "  0  ?  ?  ?  ?  ?  ?  ?  ?  ?  ?  ?  ?  ?  ?  ?  ?  ?\n",
    "  1  ?  .  .  .  .  .  .  .  .  .  .  .  .  .  .  .  ?\n",
    "  2  ?  .  X  .  .  .  .  .  .  .  .  .  .  .  .  .  ?\n",
    "  3  ?  .  .  .  .  .  .  .  .  .  .  .  .  .  .  .  ?\n",
    "  4  ?  .  .  .  .  .  .  .  .  .  .  .  .  .  .  .  ?\n",
    "  5  ?  .  .  .  .  .  .  .  X  .  .  .  .  .  .  .  ?\n",
    "  6  ?  .  .  .  .  .  X  X  O  .  .  .  .  .  .  .  ?\n",
    "  7  ?  .  .  .  .  .  O  O  O  .  .  .  .  .  .  .  ?\n",
    "  8  ?  .  .  .  .  .  X  O  O  .  .  .  .  .  .  .  ?\n",
    "  9  ?  .  .  .  .  .  .  .  .  .  .  .  .  .  .  .  ?\n",
    " 10  ?  .  .  .  .  .  .  .  .  .  .  .  .  .  .  .  ?\n",
    " 11  ?  .  .  .  .  .  .  .  .  .  .  .  .  .  .  .  ?\n",
    " 12  ?  .  .  .  .  .  .  .  .  .  .  .  .  .  .  .  ?\n",
    " 13  ?  .  .  .  .  .  .  .  .  .  .  .  .  .  .  .  ?\n",
    " 14  ?  .  .  .  .  .  .  .  .  .  .  .  .  .  .  .  ?\n",
    " 15  ?  .  .  .  .  .  .  .  .  .  .  .  .  .  .  .  ?\n",
    " 16  ?  ?  ?  ?  ?  ?  ?  ?  ?  ?  ?  ?  ?  ?  ?  ?  ?'''\n",
    "board_size = 15\n",
    "board = [[0 for i in range(board_size)] for j in range(board_size)]\n",
    "board_str = board_str.split('\\n')[2:-1]\n",
    "for i in range(len(board_str)):\n",
    "  board_str[i] = board_str[i].split()[2:-1]\n",
    "  for j in range(board_size):\n",
    "    if board_str[i][j] == 'O':\n",
    "      board[i][j] = 1\n",
    "    elif board_str[i][j] == 'X':\n",
    "      board[i][j] = -1\n",
    "    else:\n",
    "      board[i][j] = 0"
   ]
  },
  {
   "cell_type": "code",
   "execution_count": 11,
   "id": "4b2ccb3f",
   "metadata": {},
   "outputs": [],
   "source": [
    "write_board(board,  15, './bug_board.txt')"
   ]
  },
  {
   "cell_type": "code",
   "execution_count": 2,
   "id": "9b83e9d7",
   "metadata": {},
   "outputs": [
    {
     "name": "stdout",
     "output_type": "stream",
     "text": [
      "6\n",
      "5\n"
     ]
    }
   ],
   "source": [
    "t1 = '''   \\\\  0  1  2  3  4  5  6  7  8  9 10 11 12 13 14 15\n",
    "  0  ?  ?  ?  ?  ?  ?  ?  ?  ?  ?  ?  ?  ?  ?  ?  ?  ?\n",
    "  1  ?  .  .  .  .  .  .  .  .  .  .  .  .  .  .  .  ?\n",
    "  2  ?  .  X  .  .  .  .  .  .  .  .  .  .  .  .  .  ?\n",
    "  3  ?  .  .  .  .  .  .  .  .  .  .  .  .  .  .  .  ?\n",
    "  4  ?  .  .  .  .  .  .  .  .  .  .  .  .  .  .  .  ?\n",
    "  5  ?  .  .  .  .  .  .  .  X  .  .  .  .  .  .  .  ?\n",
    "  6  ?  .  .  .  .  .  X  X  O  .  .  .  .  .  .  .  ?\n",
    "  7  ?  .  .  .  .  .  O  O  O  .  .  .  .  .  .  .  ?\n",
    "  8  ?  .  .  .  .  .  X  O  O  .  .  .  .  .  .  .  ?\n",
    "  9  ?  .  .  .  .  .  .  .  .  .  .  .  .  .  .  .  ?\n",
    " 10  ?  .  .  .  .  .  .  .  .  .  .  .  .  .  .  .  ?\n",
    " 11  ?  .  .  .  .  .  .  .  .  .  .  .  .  .  .  .  ?\n",
    " 12  ?  .  .  .  .  .  .  .  .  .  .  .  .  .  .  .  ?\n",
    " 13  ?  .  .  .  .  .  .  .  .  .  .  .  .  .  .  .  ?\n",
    " 14  ?  .  .  .  .  .  .  .  .  .  .  .  .  .  .  .  ?\n",
    " 15  ?  .  .  .  .  .  .  .  .  .  .  .  .  .  .  .  ?\n",
    " 16  ?  ?  ?  ?  ?  ?  ?  ?  ?  ?  ?  ?  ?  ?  ?  ?  ?'''.replace(\"\\\\\",\"\")\n",
    "\n",
    "print(t1.count(\"O\"))\n",
    "print(t1.count(\"X\"))"
   ]
  },
  {
   "cell_type": "code",
   "execution_count": 40,
   "id": "c4b2ff58",
   "metadata": {},
   "outputs": [
    {
     "name": "stdout",
     "output_type": "stream",
     "text": [
      "12\n",
      "11\n"
     ]
    }
   ],
   "source": [
    "t2 = '''15\n",
    "-1 0 0 0 0 0 0 0 0 0 0 0 0 0 0\n",
    "0 0 0 0 0 0 0 0 0 0 0 0 0 0 0\n",
    "0 0 0 0 0 0 0 0 0 0 0 0 0 0 0\n",
    "0 0 0 0 0 0 0 0 0 0 0 0 0 0 0\n",
    "0 0 0 0 0 0 0 0 0 0 0 0 0 0 0\n",
    "0 0 0 0 0 0 -1 1 1 1 1 -1 0 0 0\n",
    "0 0 0 0 0 0 -1 -1 0 -1 0 0 0 0 0\n",
    "0 0 0 0 1 1 0 1 1 -1 0 0 0 0 0\n",
    "0 0 0 0 0 -1 -1 1 -1 0 -1 0 0 0 0\n",
    "0 0 0 0 0 0 0 1 0 1 0 0 0 0 0\n",
    "0 0 0 0 0 0 0 -1 1 0 0 0 0 0 0\n",
    "0 0 0 0 0 0 0 0 0 0 0 0 0 0 0\n",
    "0 0 0 0 0 0 0 0 0 0 0 0 0 0 0\n",
    "0 0 0 0 0 0 0 0 0 0 0 0 0 0 0\n",
    "0 0 0 0 0 0 0 0 0 0 0 0 0 0 0'''\n",
    "t2 = t2[2:]\n",
    "print(t2.count(\" 1\"))\n",
    "\n",
    "print(t2.count(\" -1\"))"
   ]
  }
 ],
 "metadata": {
  "kernelspec": {
   "display_name": "base",
   "language": "python",
   "name": "python3"
  },
  "language_info": {
   "codemirror_mode": {
    "name": "ipython",
    "version": 3
   },
   "file_extension": ".py",
   "mimetype": "text/x-python",
   "name": "python",
   "nbconvert_exporter": "python",
   "pygments_lexer": "ipython3",
   "version": "3.12.9"
  }
 },
 "nbformat": 4,
 "nbformat_minor": 5
}
